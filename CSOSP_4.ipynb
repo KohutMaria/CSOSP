{
  "metadata": {
    "kernelspec": {
      "name": "python",
      "display_name": "Python (Pyodide)",
      "language": "python"
    },
    "language_info": {
      "codemirror_mode": {
        "name": "python",
        "version": 3
      },
      "file_extension": ".py",
      "mimetype": "text/x-python",
      "name": "python",
      "nbconvert_exporter": "python",
      "pygments_lexer": "ipython3",
      "version": "3.8"
    }
  },
  "nbformat_minor": 5,
  "nbformat": 4,
  "cells": [
    {
      "cell_type": "code",
      "source": "import numpy as np\nimport matplotlib.pyplot as plt\nfrom scipy.stats import uniform\nimport random as rand",
      "metadata": {
        "trusted": true
      },
      "execution_count": 2,
      "outputs": [],
      "id": "4934c908-8268-4456-9c93-da8487311af2"
    },
    {
      "cell_type": "code",
      "source": "def plot(X, Y, n):\n#    plt.figure(figsize = (5,2))\n    plt.hist(X, bins = 15, alpha = 0.5, label = \"Stabe distribution\")\n    plt.hist(Y, bins = 15, alpha = 0.5, label = \"Series representation\")\n    plt.title(\"Series representation with n = %.i\" %n)\n    plt.legend()\n    plt.show()",
      "metadata": {
        "trusted": true
      },
      "execution_count": 230,
      "outputs": [],
      "id": "e7995429-aa98-4f6f-a871-58b5102f6935"
    },
    {
      "cell_type": "markdown",
      "source": "# Nonsymmetric",
      "metadata": {},
      "id": "1e4ddad3-6d6b-42ed-b30c-eff00270ad4a"
    },
    {
      "cell_type": "code",
      "source": "n = 1000\nmean = 1\n\nO = uniform.rvs(size = n, loc = - np.pi / 2, scale = np.pi)\nU = uniform.rvs(size = n)\nW = - mean * np.log(1 - U)",
      "metadata": {
        "trusted": true
      },
      "execution_count": 263,
      "outputs": [],
      "id": "7b31eed9-e235-4f0b-a7c4-9f1ec526bfe8"
    },
    {
      "cell_type": "code",
      "source": "def stable_nonsym(O, W, alpha, beta):\n    if alpha == 1:\n        Z = 2 / np.pi * ((np.pi / 2 + beta * O) * np.tan(O) - beta * np.log(np.pi / 2 * W * np.cos(O) / (np.pi / 2 + beta * O)))\n    else:\n        O_0 = np.arctan(beta * np.tan(np.pi * alpha / 2)) / alpha\n        Z = np.sin(alpha * (O_0 + O)) / (np.cos(alpha * O_0) * np.cos(O))**(1/alpha) * ((np.cos(alpha * O_0 + (alpha - 1) * O)) / W)**((1-alpha)/alpha)\n    return Z",
      "metadata": {
        "trusted": true
      },
      "execution_count": 264,
      "outputs": [],
      "id": "f068e63a-af58-49ca-a323-bc71583f98ce"
    },
    {
      "cell_type": "code",
      "source": "alpha = 1.5\nbeta = 0\n\nSt = stable_nonsym(O, W, alpha, beta)",
      "metadata": {
        "trusted": true
      },
      "execution_count": 265,
      "outputs": [],
      "id": "b210c77b-12b2-4690-b57e-d0505466577e"
    },
    {
      "cell_type": "code",
      "source": "def stable(beta, sigma, mu, X):\n    ",
      "metadata": {},
      "execution_count": null,
      "outputs": [],
      "id": "d5816d75-9ce0-40c6-9ade-e01b31516bcf"
    },
    {
      "cell_type": "code",
      "source": "",
      "metadata": {},
      "execution_count": null,
      "outputs": [],
      "id": "b183814b-827f-4715-9d6f-a81ed5015bab"
    },
    {
      "cell_type": "code",
      "source": "n = 10000\n#alpha = 1",
      "metadata": {
        "trusted": true
      },
      "execution_count": 274,
      "outputs": [],
      "id": "b36fd479-491c-44fe-afd1-8fb359ba5195"
    },
    {
      "cell_type": "code",
      "source": "eps = rand.choices([-1, 1], k = n)",
      "metadata": {
        "trusted": true
      },
      "execution_count": 275,
      "outputs": [],
      "id": "50a4d30d-640e-457e-af3f-0343c4f1e9a3"
    },
    {
      "cell_type": "code",
      "source": "E = np.random.exponential(1, n)",
      "metadata": {
        "trusted": true
      },
      "execution_count": 276,
      "outputs": [],
      "id": "17de87c3-3e77-4fa5-a15e-387237b149ed"
    },
    {
      "cell_type": "code",
      "source": "Gamma = []\nfor i in range(1, n+1):\n    Gamma.append(sum(E[: i]))",
      "metadata": {
        "trusted": true
      },
      "execution_count": 277,
      "outputs": [],
      "id": "959e21fd-77a7-42c1-a307-71fcf830d6f3"
    },
    {
      "cell_type": "code",
      "source": "W = uniform.rvs(size = n, loc = -1670/2, scale = 1670)",
      "metadata": {
        "trusted": true
      },
      "execution_count": 318,
      "outputs": [],
      "id": "e9eee4b6-0801-4d13-8dc6-56d462861599"
    },
    {
      "cell_type": "code",
      "source": "Z = eps * np.power(Gamma, -1/alpha) * W",
      "metadata": {
        "trusted": true
      },
      "execution_count": 319,
      "outputs": [],
      "id": "a4dc4f96-f5d1-480a-84b7-a00527de2633"
    },
    {
      "cell_type": "code",
      "source": "plt.hist(Z, density = True, bins = 15)\nplt.show()",
      "metadata": {
        "trusted": true
      },
      "execution_count": 320,
      "outputs": [
        {
          "output_type": "display_data",
          "data": {
            "text/plain": "<Figure size 640x480 with 1 Axes>",
            "image/png": "[encoded data removed]"
          },
          "metadata": {}
        }
      ],
      "id": "dbf6f14c-419e-415c-8b4e-671138cc0cdf"
    },
    {
      "cell_type": "code",
      "source": "plt.hist(St, density = True, bins = 15)\nplt.show()",
      "metadata": {
        "trusted": true
      },
      "execution_count": 317,
      "outputs": [
        {
          "output_type": "display_data",
          "data": {
            "text/plain": "<Figure size 640x480 with 1 Axes>",
            "image/png": "[encoded data removed]"
          },
          "metadata": {}
        }
      ],
      "id": "aa7aab12-5480-4880-9b31-cbbbdd4597c7"
    },
    {
      "cell_type": "code",
      "source": "",
      "metadata": {},
      "execution_count": null,
      "outputs": [],
      "id": "2dc8739e-40da-44ef-9725-c8fb4aacde1e"
    }
  ]
}