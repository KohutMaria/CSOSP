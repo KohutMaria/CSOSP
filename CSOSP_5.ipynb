{
  "metadata": {
    "kernelspec": {
      "name": "python",
      "display_name": "Python (Pyodide)",
      "language": "python"
    },
    "language_info": {
      "codemirror_mode": {
        "name": "python",
        "version": 3
      },
      "file_extension": ".py",
      "mimetype": "text/x-python",
      "name": "python",
      "nbconvert_exporter": "python",
      "pygments_lexer": "ipython3",
      "version": "3.8"
    }
  },
  "nbformat_minor": 5,
  "nbformat": 4,
  "cells": [
    {
      "cell_type": "code",
      "source": "import numpy as np\nimport matplotlib.pyplot as plt\nfrom scipy.stats import uniform\nimport random as rand",
      "metadata": {
        "trusted": true
      },
      "execution_count": 1,
      "outputs": [],
      "id": "4934c908-8268-4456-9c93-da8487311af2"
    },
    {
      "cell_type": "code",
      "source": "def plot(X):\n    plt.figure(figsize = (5,2))\n    plt.hist(X, bins = 15, alpha = 0.5, label = \"Stabe distribution\")\n    plt.legend()\n    plt.show()",
      "metadata": {
        "trusted": true
      },
      "execution_count": 8,
      "outputs": [],
      "id": "e7995429-aa98-4f6f-a871-58b5102f6935"
    },
    {
      "cell_type": "markdown",
      "source": "# a-stable distribution",
      "metadata": {},
      "id": "1e4ddad3-6d6b-42ed-b30c-eff00270ad4a"
    },
    {
      "cell_type": "code",
      "source": "n = 1000\nmean = 1\n\nO = uniform.rvs(size = n, loc = - np.pi / 2, scale = np.pi)\nU = uniform.rvs(size = n)\nW = - mean * np.log(1 - U)",
      "metadata": {
        "trusted": true
      },
      "execution_count": 2,
      "outputs": [],
      "id": "7b31eed9-e235-4f0b-a7c4-9f1ec526bfe8"
    },
    {
      "cell_type": "code",
      "source": "def stable(O, W, alpha, beta):\n    if alpha == 1:\n        Z = 2 / np.pi * ((np.pi / 2 + beta * O) * np.tan(O) - beta * np.log(np.pi / 2 * W * np.cos(O) / (np.pi / 2 + beta * O)))\n    else:\n        O_0 = np.arctan(beta * np.tan(np.pi * alpha / 2)) / alpha\n        Z = np.sin(alpha * (O_0 + O)) / (np.cos(alpha * O_0) * np.cos(O))**(1/alpha) * ((np.cos(alpha * O_0 + (alpha - 1) * O)) / W)**((1-alpha)/alpha)\n    return Z",
      "metadata": {
        "trusted": true
      },
      "execution_count": 3,
      "outputs": [],
      "id": "f068e63a-af58-49ca-a323-bc71583f98ce"
    },
    {
      "cell_type": "code",
      "source": "alpha = 0.9\nbeta = 1\n\nZ = stable(O, W, alpha, beta)\nplot(Z)",
      "metadata": {
        "trusted": true
      },
      "execution_count": 11,
      "outputs": [
        {
          "output_type": "display_data",
          "data": {
            "text/plain": "<Figure size 500x200 with 1 Axes>",
            "image/png": "[encoded data removed]"
          },
          "metadata": {}
        }
      ],
      "id": "b210c77b-12b2-4690-b57e-d0505466577e"
    },
    {
      "cell_type": "code",
      "source": "",
      "metadata": {},
      "execution_count": null,
      "outputs": [],
      "id": "b183814b-827f-4715-9d6f-a81ed5015bab"
    },
    {
      "cell_type": "markdown",
      "source": "# a-stable vector",
      "metadata": {},
      "id": "c82b2cf9-1c93-4f2f-be74-fc1317ec6e3c"
    },
    {
      "cell_type": "code",
      "source": "def stable_vector(Zs, gammas, ss, d):\n    Xs = []\n    n = len(gammas)\n    for i in range(d):\n        X = []\n        if alpha == 1:\n            for j in range(n):\n                X.append(gammas[j] * (Zs[j] + 2/np.pi * np.log(gammas[j])) * ss[j][i])\n            Xs.append(sum(X))\n        else:\n            for j in range(n):\n                X.append(np.power(gammas[j], 1/alpha) * Zs[j] * ss[j][i])\n            Xs.append(sum(X))\n    return Xs",
      "metadata": {
        "trusted": true
      },
      "execution_count": 47,
      "outputs": [],
      "id": "f3e6b162-0b93-4ec0-b824-142838b8a590"
    },
    {
      "cell_type": "code",
      "source": "gammas = [0.25, 0.125, 0.25, 0.25, 0.125, 0.25]\nss = [[1, 0], \n      [1/2, np.sqrt(3)/2], \n      [-1/2, np.sqrt(3)/2],\n      [-1, 0],\n      [-1/2, -np.sqrt(3)/2],\n      [1/2, -np.sqrt(3)/2]]\nd = 2\nalpha = 0.9",
      "metadata": {
        "trusted": true
      },
      "execution_count": 60,
      "outputs": [],
      "id": "da10fb64-db14-4e04-a4e5-ad48758e8599"
    },
    {
      "cell_type": "code",
      "source": "Zs = []\nn = 10000\nmean = 1\n\nfor i in range(len(gammas)):\n    O = uniform.rvs(size = n, loc = - np.pi / 2, scale = np.pi)\n    U = uniform.rvs(size = n)\n    W = - mean * np.log(1 - U)\n    \n    Zs.append(stable(O, W, alpha, 1))",
      "metadata": {
        "trusted": true
      },
      "execution_count": 61,
      "outputs": [],
      "id": "a08ea914-81bb-40d2-b481-cef546b74dd4"
    },
    {
      "cell_type": "code",
      "source": "Xs = stable_vector(Zs, gammas, ss, d)",
      "metadata": {
        "trusted": true
      },
      "execution_count": 63,
      "outputs": [],
      "id": "d49b1cdd-125d-4dba-bed4-483c287c3dfc"
    },
    {
      "cell_type": "code",
      "source": "Xs",
      "metadata": {
        "trusted": true
      },
      "execution_count": 64,
      "outputs": [
        {
          "execution_count": 64,
          "output_type": "execute_result",
          "data": {
            "text/plain": "[array([ -6.72982587,  -0.71481739,  -0.13386747, ...,   0.22978775,\n         33.41186707, -15.59740594]),\n array([13.79797416,  0.2157616 , -0.29488532, ...,  0.44646891,\n         0.98389   , 26.22379421])]"
          },
          "metadata": {}
        }
      ],
      "id": "e2fdf8d2-be7d-4347-a656-7cd7adc2e3cf"
    },
    {
      "cell_type": "code",
      "source": "for i in range(len(Xs)):\n    print(Xs[i].min())\n    print(Xs[i].max())",
      "metadata": {
        "trusted": true
      },
      "execution_count": 65,
      "outputs": [
        {
          "name": "stdout",
          "text": "-4960.759554926044\n1655.092985820858\n-1915.4575777379514\n8592.36259952679\n",
          "output_type": "stream"
        }
      ],
      "id": "def7b720-dd5c-4b61-a818-c65b561bf4c0"
    },
    {
      "cell_type": "code",
      "source": "plt.scatter(Xs[0], Xs[1])",
      "metadata": {
        "trusted": true
      },
      "execution_count": 66,
      "outputs": [
        {
          "execution_count": 66,
          "output_type": "execute_result",
          "data": {
            "text/plain": "<matplotlib.collections.PathCollection at 0x54f92a0>"
          },
          "metadata": {}
        },
        {
          "output_type": "display_data",
          "data": {
            "text/plain": "<Figure size 640x480 with 1 Axes>",
            "image/png": "[encoded data removed]"
          },
          "metadata": {}
        }
      ],
      "id": "906b46cb-e373-41fd-805c-b0cfd26ac79e"
    },
    {
      "cell_type": "code",
      "source": "",
      "metadata": {},
      "execution_count": null,
      "outputs": [],
      "id": "5120c950-a4ca-4fa1-aa62-41f23c8c77c7"
    },
    {
      "cell_type": "code",
      "source": "gammas = [0.1, 0.3, 0.1, 0.3, 0.1]\nss = [[1, 0], \n      [np.sqrt(3)/2, 1/2], \n      [1/2, np.sqrt(3)/2],\n      [0, 1],\n      [-1/2, np.sqrt(3)/2]]\nd = 2\nalpha = 1.6",
      "metadata": {
        "trusted": true
      },
      "execution_count": 67,
      "outputs": [],
      "id": "82504722-3c8e-4283-bbc6-619829f55827"
    },
    {
      "cell_type": "code",
      "source": "Zs = []\nn = 1000\nmean = 1\n\nfor i in range(len(gammas)):\n    O = uniform.rvs(size = n, loc = - np.pi / 2, scale = np.pi)\n    U = uniform.rvs(size = n)\n    W = - mean * np.log(1 - U)\n    \n    Zs.append(stable(O, W, alpha, 1))",
      "metadata": {
        "trusted": true
      },
      "execution_count": 68,
      "outputs": [],
      "id": "81e1caad-7b93-4a07-9f09-5ad231f620c0"
    },
    {
      "cell_type": "code",
      "source": "Xs = stable_vector(Zs, gammas, ss, d)",
      "metadata": {
        "trusted": true
      },
      "execution_count": 69,
      "outputs": [],
      "id": "19eb472a-3a0c-4cd8-99a1-5fb34283aef5"
    },
    {
      "cell_type": "code",
      "source": "Xs",
      "metadata": {
        "trusted": true
      },
      "execution_count": null,
      "outputs": [],
      "id": "05209c93-b6d2-4a86-aa9d-8228951b0849"
    },
    {
      "cell_type": "code",
      "source": "for i in range(len(Xs)):\n    print(Xs[i].min())\n    print(Xs[i].max())",
      "metadata": {
        "trusted": true
      },
      "execution_count": 71,
      "outputs": [
        {
          "name": "stdout",
          "text": "-8.175418203641112\n25.880442057431704\n-2.466285336177158\n95.74697858733651\n",
          "output_type": "stream"
        }
      ],
      "id": "9e795ab3-2b57-4801-b785-80316a2bbf19"
    },
    {
      "cell_type": "code",
      "source": "plt.scatter(Xs[0], Xs[1])",
      "metadata": {
        "trusted": true
      },
      "execution_count": 72,
      "outputs": [
        {
          "execution_count": 72,
          "output_type": "execute_result",
          "data": {
            "text/plain": "<matplotlib.collections.PathCollection at 0x5950ad8>"
          },
          "metadata": {}
        },
        {
          "output_type": "display_data",
          "data": {
            "text/plain": "<Figure size 640x480 with 1 Axes>",
            "image/png": "[encoded data removed]"
          },
          "metadata": {}
        }
      ],
      "id": "2dc8739e-40da-44ef-9725-c8fb4aacde1e"
    },
    {
      "cell_type": "code",
      "source": "",
      "metadata": {},
      "execution_count": null,
      "outputs": [],
      "id": "bad37095-35a4-41d1-91ef-050e1bd8f744"
    }
  ]
}